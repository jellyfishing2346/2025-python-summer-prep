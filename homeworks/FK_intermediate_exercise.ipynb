{
 "cells": [
  {
   "cell_type": "markdown",
   "metadata": {},
   "source": [
    "## ❌ DO NOT EDIT - MAKE A COPY\n",
    "# Q1: Alphabet Slices\n",
    "* Store the first ten letters of the alphabet in a list.\n",
    "* Use a slice to print out the first three letters of the alphabet.\n",
    "* Use a slice to print out any three letters from the middle of your list."
   ]
  },
  {
   "cell_type": "code",
   "execution_count": 21,
   "metadata": {},
   "outputs": [
    {
     "name": "stdout",
     "output_type": "stream",
     "text": [
      "First three letters: ['a', 'b', 'c']\n",
      "Three middle letters: ['d', 'e', 'f']\n"
     ]
    }
   ],
   "source": [
    "# Solve Alphabet slices here. \n",
    "## Extra Credit:  Do this without 'hard coding' the alpahbet.\n",
    "import string\n",
    "\n",
    "# Store the first ten letters of the alphabet in a list\n",
    "alphabet = list(string.ascii_lowercase[:10])\n",
    "\n",
    "# Print the first three letters\n",
    "print(\"First three letters:\", alphabet[:3])\n",
    "\n",
    "# Print any three letters from the middle (e.g., positions 4, 5, 6)\n",
    "print(\"Three middle letters:\", alphabet[3:6])\n",
    "\n"
   ]
  },
  {
   "cell_type": "markdown",
   "metadata": {},
   "source": [
    "# Q2:  Covert all the rapper names to title case and save them into a new different list. \n",
    "Example: **lil wayne** becomes **Lil Wayne**"
   ]
  },
  {
   "cell_type": "code",
   "execution_count": 22,
   "metadata": {},
   "outputs": [
    {
     "name": "stdout",
     "output_type": "stream",
     "text": [
      "Rapper names with first letter capitalized: ['Lil Wayne', 'Nicki Minaj', 'Drake']\n"
     ]
    }
   ],
   "source": [
    "# Solve rapper names here\n",
    "rappers = ['lil wayne', 'nicki minaj', 'drake']\n",
    "new_list = [rapper.title() for rapper in rappers]\n",
    "print(\"Rapper names with first letter capitalized:\", new_list)\n"
   ]
  },
  {
   "cell_type": "markdown",
   "metadata": {},
   "source": [
    "# Q3: Write a function that takes a number and returns:\n",
    "* True if the input number is even.\n",
    "* False if the input number is odd."
   ]
  },
  {
   "cell_type": "code",
   "execution_count": 23,
   "metadata": {},
   "outputs": [
    {
     "name": "stdout",
     "output_type": "stream",
     "text": [
      "odd\n",
      "even\n"
     ]
    }
   ],
   "source": [
    "# Solve problem here\n",
    "\n",
    "def even_odd(lst):\n",
    "   if len(lst) % 2 == 0:\n",
    "       return \"even\"\n",
    "   return \"odd\"\n",
    "\n",
    "print(even_odd([1, 2, 3, 4, 5]))\n",
    "print(even_odd([1, 2, 3, 4]))"
   ]
  },
  {
   "cell_type": "markdown",
   "metadata": {},
   "source": [
    "# Q4: Find the sum and the average of this list of numbers.\n",
    "\n",
    "Try doing this using a loop.  Then try doing this without using a loop. "
   ]
  },
  {
   "cell_type": "code",
   "execution_count": 24,
   "metadata": {},
   "outputs": [
    {
     "name": "stdout",
     "output_type": "stream",
     "text": [
      "353 35.3\n"
     ]
    }
   ],
   "source": [
    "# Solve problem here:\n",
    "\n",
    "my_list = [1, 5, 10, 55, 88, 44, 42, 50, 20, 38]\n",
    "list_sum = sum(my_list)\n",
    "list_avg = list_sum / len(my_list)\n",
    "\n",
    "\n",
    "# Keep this as your last line in this cell.\n",
    "print(list_sum, list_avg)"
   ]
  },
  {
   "cell_type": "markdown",
   "metadata": {},
   "source": [
    "# Q5: \n",
    "## Write a function that takes a list and returns a new list that has all the duplicates removed.\n",
    "\n",
    "Example input and expected output:\n",
    "- input = `[\"Michele\", \"Robin\", \"Sara\", \"Michele\"]`\n",
    "- expected output = `['Michele', 'Robin', 'Sara']`\n"
   ]
  },
  {
   "cell_type": "code",
   "execution_count": 25,
   "metadata": {},
   "outputs": [
    {
     "name": "stdout",
     "output_type": "stream",
     "text": [
      "Names without duplicates: ['Michele', 'Robin', 'Sara']\n"
     ]
    }
   ],
   "source": [
    "# Solve problem here:\n",
    "\n",
    "names = [\"Michele\", \"Robin\", \"Sara\", \"Michele\"]\n",
    "no_duplicates = set(names)\n",
    "print(\"Names without duplicates:\", sorted(no_duplicates))\n"
   ]
  },
  {
   "cell_type": "markdown",
   "metadata": {},
   "source": [
    "# Q6: Write a function that takes a list of numbers \n",
    "(for example, `a = [5, 10, 15, 20, 25]`) and returns a new list of only the first and last elements of the given list.\n",
    "\n",
    "Example input and expected output:\n",
    "- input = `[5, 10, 15, 20, 25]`\n",
    "- expected output = `[5, 25]`"
   ]
  },
  {
   "cell_type": "code",
   "execution_count": 26,
   "metadata": {},
   "outputs": [
    {
     "name": "stdout",
     "output_type": "stream",
     "text": [
      "[5, 25]\n"
     ]
    }
   ],
   "source": [
    "# Solve problem here:\n",
    "input_list = [5, 10, 99, 20, 25]\n",
    "first_last = [input_list[0], input_list[-1]]\n",
    "print(first_last)"
   ]
  },
  {
   "cell_type": "markdown",
   "metadata": {},
   "source": [
    "# Q7: \n",
    "## Implement a function that takes as input three variables, and returns the largest of the three. \n",
    "### Try doing this without using the `max()` function!\n",
    "\n",
    "_**Note:** all three input numbers will always be different, no need to account for a tie._\n",
    "\n",
    "Example input and expected output:\n",
    "- input: `your_function(1, 5, 10)`\n",
    "- expected output:  `10`"
   ]
  },
  {
   "cell_type": "code",
   "execution_count": 19,
   "metadata": {},
   "outputs": [],
   "source": [
    "# Solve Problem here:\n",
    "\n",
    "def my_max(a, b, c):\n",
    "    # Fill in your code below and return max value of a, b, c\n",
    "    if a >= b and a >= c:\n",
    "        return a\n",
    "    elif b >= a and b >= c:\n",
    "        return b\n",
    "    else:\n",
    "        return c\n",
    "    "
   ]
  },
  {
   "cell_type": "code",
   "execution_count": 20,
   "metadata": {},
   "outputs": [
    {
     "data": {
      "text/plain": [
       "10"
      ]
     },
     "execution_count": 20,
     "metadata": {},
     "output_type": "execute_result"
    }
   ],
   "source": [
    "# Test to see if your function works properly.\n",
    "my_max(1, 5, 10)"
   ]
  },
  {
   "cell_type": "markdown",
   "metadata": {},
   "source": [
    "# Q8: Write a function that takes a number as input and returns the following:\n",
    "* If the input is divisible by three, return `'fizz'`\n",
    "* If the input is divisible by five, return `'buzz'`\n",
    "* If the input is divisible by three and by five, return `'fizzbuzz'`\n",
    "* If the input is not divisible by three or five, return `None`."
   ]
  },
  {
   "cell_type": "code",
   "execution_count": 17,
   "metadata": {},
   "outputs": [
    {
     "name": "stdout",
     "output_type": "stream",
     "text": [
      "FizzBuzz up to 15:\n",
      "1\n",
      "2\n",
      "fizz\n",
      "4\n",
      "buzz\n",
      "fizz\n",
      "7\n",
      "8\n",
      "fizz\n",
      "buzz\n",
      "11\n",
      "fizz\n",
      "13\n",
      "14\n",
      "fizzbuzz\n"
     ]
    }
   ],
   "source": [
    "# Solve Problem fizzbuzz here:\n",
    "def fizzbuzz(n):\n",
    "    for i in range(1, n+1):\n",
    "        if i % 3 == 0 and i % 5 == 0:\n",
    "            print(\"fizzbuzz\")\n",
    "        elif i % 3 == 0:\n",
    "            print(\"fizz\")\n",
    "        elif i % 5 == 0:\n",
    "            print(\"buzz\")\n",
    "        else:\n",
    "            print(i)\n",
    "\n",
    "print(\"FizzBuzz up to 15:\")\n",
    "fizzbuzz(15)"
   ]
  }
 ],
 "metadata": {
  "kernelspec": {
   "display_name": "base",
   "language": "python",
   "name": "python3"
  },
  "language_info": {
   "codemirror_mode": {
    "name": "ipython",
    "version": 3
   },
   "file_extension": ".py",
   "mimetype": "text/x-python",
   "name": "python",
   "nbconvert_exporter": "python",
   "pygments_lexer": "ipython3",
   "version": "3.12.2"
  }
 },
 "nbformat": 4,
 "nbformat_minor": 4
}
